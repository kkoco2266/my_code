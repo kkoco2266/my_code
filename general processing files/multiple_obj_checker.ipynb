{
 "cells": [
  {
   "cell_type": "code",
   "execution_count": null,
   "metadata": {},
   "outputs": [],
   "source": [
    "for obj in myobjs:\n",
    "    kk = pd.read_csv(obj)[\"ID Number\"]\n",
    "    if kk.duplicated().sum() > 0 :\n",
    "        print(obj)\n",
    "        print(kk[kk.duplicated()], \"\\n\")"
   ]
  },
  {
   "cell_type": "code",
   "execution_count": null,
   "metadata": {},
   "outputs": [],
   "source": [
    "kk = Basic_2.obj_n_subj_files[9][0].index\n",
    "if kk.duplicated().sum() > 0 :\n",
    "    print(kk[kk.duplicated()], \"\\n\")"
   ]
  }
 ],
 "metadata": {
  "language_info": {
   "name": "python"
  }
 },
 "nbformat": 4,
 "nbformat_minor": 2
}
